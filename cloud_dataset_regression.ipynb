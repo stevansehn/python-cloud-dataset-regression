{
  "nbformat": 4,
  "nbformat_minor": 0,
  "metadata": {
    "colab": {
      "provenance": [],
      "include_colab_link": true
    },
    "kernelspec": {
      "name": "python3",
      "display_name": "Python 3"
    },
    "language_info": {
      "name": "python"
    }
  },
  "cells": [
    {
      "cell_type": "markdown",
      "metadata": {
        "id": "view-in-github",
        "colab_type": "text"
      },
      "source": [
        "<a href=\"https://colab.research.google.com/github/stevansehn/python-cloud-dataset-regression/blob/main/cloud_dataset_regression.ipynb\" target=\"_parent\"><img src=\"https://colab.research.google.com/assets/colab-badge.svg\" alt=\"Open In Colab\"/></a>"
      ]
    },
    {
      "cell_type": "code",
      "source": [
        "import numpy as np\n",
        "import pandas as pd\n",
        "import matplotlib.pyplot as plt\n",
        "from sklearn.datasets import make_regression\n",
        "from sklearn.model_selection import train_test_split\n",
        "from sklearn.preprocessing import PolynomialFeatures\n",
        "from sklearn.linear_model import LinearRegression\n",
        "from sklearn.linear_model import Ridge\n",
        "from sklearn.linear_model import Lasso\n",
        "from sklearn.metrics import mean_absolute_error\n",
        "from sklearn.metrics import mean_squared_error\n",
        "from sklearn.metrics import root_mean_squared_error\n",
        "from sklearn.metrics import r2_score\n",
        "from sklearn.model_selection import cross_val_score\n",
        "from sklearn.model_selection import cross_val_predict\n",
        "from sklearn.model_selection import KFold\n",
        "from google.colab import drive\n",
        "drive.mount('/content/drive')"
      ],
      "metadata": {
        "id": "-wYOfEP-i_-G",
        "colab": {
          "base_uri": "https://localhost:8080/"
        },
        "outputId": "6e73ed9b-beb8-4708-e2f4-9bf7d68b7edc"
      },
      "execution_count": null,
      "outputs": [
        {
          "output_type": "stream",
          "name": "stdout",
          "text": [
            "Drive already mounted at /content/drive; to attempt to forcibly remount, call drive.mount(\"/content/drive\", force_remount=True).\n"
          ]
        }
      ]
    },
    {
      "cell_type": "markdown",
      "source": [
        "#### 1. Execute 10 vezes o 5-folds CV utilizando diferentes valores para o random_state e calcule o R2 médio destas execuções, para o algoritmo de Regressão Linear."
      ],
      "metadata": {
        "id": "GH_7el0t66T_"
      }
    },
    {
      "cell_type": "code",
      "source": [
        "df = pd.read_csv('/content/drive/MyDrive/RNA_Datasets/cloud.csv')\n",
        "X = df.drop('Target', axis=1).values\n",
        "y = df['Target'].values\n",
        "\n",
        "for i in range(10):\n",
        "  kf = KFold(n_splits=5, shuffle=True, random_state=i)\n",
        "  lr_r2 = cross_val_score(LinearRegression(), X, y, cv=kf, scoring='r2')\n",
        "\n",
        "  print(\"Resultado para random_state: {:d}\".format(i))\n",
        "  print(\"R2 médio: \", lr_r2.mean().round(2))"
      ],
      "metadata": {
        "colab": {
          "base_uri": "https://localhost:8080/"
        },
        "id": "M6SQLxW5lz3q",
        "outputId": "dd591400-7049-473b-f9d7-361051419b35"
      },
      "execution_count": null,
      "outputs": [
        {
          "output_type": "stream",
          "name": "stdout",
          "text": [
            "Resultado para random_state: 0\n",
            "R2 médio:  0.82\n",
            "Resultado para random_state: 1\n",
            "R2 médio:  0.82\n",
            "Resultado para random_state: 2\n",
            "R2 médio:  0.8\n",
            "Resultado para random_state: 3\n",
            "R2 médio:  0.82\n",
            "Resultado para random_state: 4\n",
            "R2 médio:  0.86\n",
            "Resultado para random_state: 5\n",
            "R2 médio:  0.81\n",
            "Resultado para random_state: 6\n",
            "R2 médio:  0.84\n",
            "Resultado para random_state: 7\n",
            "R2 médio:  0.86\n",
            "Resultado para random_state: 8\n",
            "R2 médio:  0.8\n",
            "Resultado para random_state: 9\n",
            "R2 médio:  0.8\n"
          ]
        }
      ]
    },
    {
      "cell_type": "markdown",
      "source": [
        "#### 2. Utilizando todo o conjunto de dados para induzir um modelo Lasso com alpha=1, identifique quantos atributos tiveram seus respectivos coeficientes zerados."
      ],
      "metadata": {
        "id": "oJvQzq1H7-fv"
      }
    },
    {
      "cell_type": "code",
      "source": [
        "df = pd.read_csv('/content/drive/MyDrive/RNA_Datasets/cloud.csv')\n",
        "X = df.drop('Target', axis=1).values\n",
        "y = df['Target'].values\n",
        "\n",
        "model = Lasso()\n",
        "model.fit(X, y)\n",
        "\n",
        "fnames = df.columns.values\n",
        "\n",
        "print(\"Intercept: \", model.intercept_)\n",
        "print(\"Coeficientes das variáveis independentes:\")\n",
        "for variavel, coeficiente in dict(zip(fnames, model.coef_)).items():\n",
        "    print(f\"{variavel}: {coeficiente}\")"
      ],
      "metadata": {
        "colab": {
          "base_uri": "https://localhost:8080/"
        },
        "id": "AzjQrJVh8ZoL",
        "outputId": "8e3b685c-bbb0-4631-eb67-c38fe9b5b823"
      },
      "execution_count": null,
      "outputs": [
        {
          "output_type": "stream",
          "name": "stdout",
          "text": [
            "Intercept:  0.773032970855124\n",
            "Coeficientes das variáveis independentes:\n",
            "period: 0.002463817518745851\n",
            "seeded: -0.0\n",
            "season: -0.0\n",
            "NC: 0.1009399492610018\n",
            "SC: 0.0\n",
            "NWC: 0.027228530649650674\n"
          ]
        }
      ]
    },
    {
      "cell_type": "markdown",
      "source": [
        "Três atributos tiveram seus coeficientes zerados."
      ],
      "metadata": {
        "id": "MSosA5jW-sgn"
      }
    },
    {
      "cell_type": "markdown",
      "source": [
        "#### 3. Utilizando todo o conjunto de dados para induzir um modelo de Regressão Linear, identifique os valores dos coeficientes obtidos para cada atributo."
      ],
      "metadata": {
        "id": "0BE8UuiT8Itq"
      }
    },
    {
      "cell_type": "code",
      "source": [
        "df = pd.read_csv('/content/drive/MyDrive/RNA_Datasets/cloud.csv')\n",
        "X = df.drop('Target', axis=1).values\n",
        "y = df['Target'].values\n",
        "\n",
        "model = LinearRegression()\n",
        "model.fit(X, y)\n",
        "\n",
        "fnames = df.columns.values\n",
        "\n",
        "print(\"Intercept: \", model.intercept_)\n",
        "print(\"Coeficientes das variáveis independentes:\")\n",
        "for variavel, coeficiente in dict(zip(fnames, model.coef_)).items():\n",
        "    print(f\"{variavel}: {coeficiente}\")"
      ],
      "metadata": {
        "colab": {
          "base_uri": "https://localhost:8080/"
        },
        "id": "X81eoDHc_GlF",
        "outputId": "35f0f88e-e99d-4a7d-f03f-7557c4991d00"
      },
      "execution_count": null,
      "outputs": [
        {
          "output_type": "stream",
          "name": "stdout",
          "text": [
            "Intercept:  -0.1326054533606127\n",
            "Coeficientes das variáveis independentes:\n",
            "period: 0.000590225592924412\n",
            "seeded: 0.033071124027886145\n",
            "season: 0.0580051846225087\n",
            "NC: 0.47871521942809175\n",
            "SC: 0.7103767094223989\n",
            "NWC: -0.13032922078271758\n"
          ]
        }
      ]
    },
    {
      "cell_type": "markdown",
      "source": [
        "#### 4. Divida o dataset em 80%, 20% e utilizando as mesmas partições compare o desempenho dos algoritmos Regressão Linear, Lasso e Ridge usando a medida RMSE."
      ],
      "metadata": {
        "id": "76VtB35P8J8i"
      }
    },
    {
      "cell_type": "code",
      "source": [
        "df = pd.read_csv('/content/drive/MyDrive/RNA_Datasets/cloud.csv')\n",
        "X = df.drop('Target', axis=1).values\n",
        "y = df['Target'].values\n",
        "\n",
        "X_train, X_test, y_train, y_test = train_test_split(X, y, test_size=0.2, random_state=0)\n",
        "\n",
        "lr = LinearRegression()\n",
        "lr.fit(X_train, y_train)\n",
        "lr_pred = lr.predict(X_test)\n",
        "lr_rmse = root_mean_squared_error(y_test, lr_pred)\n",
        "\n",
        "ridge = Ridge(alpha=1)\n",
        "ridge.fit(X_train, y_train)\n",
        "ridge_pred = ridge.predict(X_test)\n",
        "ridge_rmse = root_mean_squared_error(y_test, ridge_pred)\n",
        "\n",
        "lasso = Lasso(alpha=1)\n",
        "lasso.fit(X_train, y_train)\n",
        "lasso_pred = lasso.predict(X_test)\n",
        "lasso_rmse = root_mean_squared_error(y_test, lasso_pred)\n",
        "\n",
        "print(\"Resultados: \")\n",
        "print(\"Regressão Linear: \", lr_rmse)\n",
        "print(\"           Lasso: \", lasso_rmse)\n",
        "print(\"           Ridge: \", ridge_rmse)"
      ],
      "metadata": {
        "colab": {
          "base_uri": "https://localhost:8080/"
        },
        "id": "5uywxkLB_9fY",
        "outputId": "a996db0f-8a9d-431d-8b0c-b050bdd07aac"
      },
      "execution_count": null,
      "outputs": [
        {
          "output_type": "stream",
          "name": "stdout",
          "text": [
            "Resultados: \n",
            "Regressão Linear:  0.6398333853418955\n",
            "           Lasso:  0.9642593311555788\n",
            "           Ridge:  0.6474327641021329\n"
          ]
        }
      ]
    },
    {
      "cell_type": "markdown",
      "source": [
        "#### 5. Utilizando a técnica de Leave-one-out calcule o valor do erro médio absoluto (MAE) para o algoritmo de Regressão Linear"
      ],
      "metadata": {
        "id": "uR9-LK5l8Kbh"
      }
    },
    {
      "cell_type": "markdown",
      "source": [
        "Obs: A documentação do Scikit Learn diz:\n",
        "\n",
        "\n",
        "\n",
        "> Note: LeaveOneOut() is equivalent to KFold(n_splits=n) and LeavePOut(p=1) where n is the number of samples.\n",
        ">\n",
        "> https://scikit-learn.org/stable/modules/generated/sklearn.model_selection.LeaveOneOut.html\n",
        "\n",
        "\n",
        "Então ao invés de usar o método LeaveOneOut() eu usei o Kfold com n = número de amostras"
      ],
      "metadata": {
        "id": "9bmnBwOZClkD"
      }
    },
    {
      "cell_type": "code",
      "source": [
        "df = pd.read_csv('/content/drive/MyDrive/RNA_Datasets/cloud.csv')\n",
        "X = df.drop('Target', axis=1).values\n",
        "y = df['Target'].values\n",
        "\n",
        "kf = KFold(n_splits=X.shape[0], shuffle=True, random_state=0)\n",
        "\n",
        "model = LinearRegression()\n",
        "predictions = cross_val_predict(model, X, y, cv=kf)\n",
        "\n",
        "mae = mean_absolute_error(y, predictions)\n",
        "\n",
        "print(\"Resultado: \")\n",
        "print(\"MAE: \", mae)"
      ],
      "metadata": {
        "colab": {
          "base_uri": "https://localhost:8080/"
        },
        "id": "YEHW2VS6FP8z",
        "outputId": "c10a2826-6a06-465f-95fc-3ca5120626c6"
      },
      "execution_count": null,
      "outputs": [
        {
          "output_type": "stream",
          "name": "stdout",
          "text": [
            "Resultado: \n",
            "MAE:  0.261532090957942\n"
          ]
        }
      ]
    }
  ]
}